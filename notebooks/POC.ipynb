{
  "cells": [
    {
      "cell_type": "markdown",
      "metadata": {},
      "source": [
        "# Prompt Engineering Educativo - POC\n",
        "\n",
        "Este notebook demuestra c\u00f3mo usar **prompt engineering** para generar materiales educativos personalizados en **texto** y **imagen**."
      ]
    },
    {
      "cell_type": "code",
      "execution_count": null,
      "metadata": {},
      "outputs": [],
      "source": [
        "from openai import OpenAI\n",
        "client = OpenAI(api_key=\"TU_API_KEY\")\n",
        "\n",
        "prompt = \"\"\"\n",
        "Genera una explicaci\u00f3n sobre la fotos\u00edntesis para estudiantes de secundaria,\n",
        "incluyendo:\n",
        "- Definici\u00f3n clara\n",
        "- 2 ejemplos pr\u00e1cticos\n",
        "- 3 preguntas de comprobaci\u00f3n\n",
        "- Una analog\u00eda cotidiana\n",
        "\"\"\"\n",
        "\n",
        "response = client.chat.completions.create(\n",
        "    model=\"gpt-4o-mini\",\n",
        "    messages=[{\"role\": \"user\", \"content\": prompt}]\n",
        ")\n",
        "\n",
        "print(response.choices[0].message.content)"
      ]
    },
    {
      "cell_type": "markdown",
      "metadata": {},
      "source": [
        "## Generaci\u00f3n de Imagen Educativa"
      ]
    },
    {
      "cell_type": "code",
      "execution_count": null,
      "metadata": {},
      "outputs": [],
      "source": [
        "from diffusers import StableDiffusionPipeline\n",
        "import torch\n",
        "\n",
        "pipe = StableDiffusionPipeline.from_pretrained(\"CompVis/stable-diffusion-v1-4\").to(\"cuda\")\n",
        "\n",
        "prompt_img = \"\"\"\n",
        "Infograf\u00eda educativa que muestre el ciclo del agua,\n",
        "con flechas claras, etiquetas descriptivas y colores suaves.\n",
        "\"\"\"\n",
        "\n",
        "image = pipe(prompt_img).images[0]\n",
        "image.save(\"ciclo_agua.png\")\n",
        "image.show()"
      ]
    }
  ],
  "metadata": {
    "kernelspec": {
      "display_name": "Python 3",
      "language": "python",
      "name": "python3"
    },
    "language_info": {
      "name": "python",
      "version": "3.10"
    }
  },
  "nbformat": 4,
  "nbformat_minor": 2
}