{
  "cells": [
    {
      "cell_type": "markdown",
      "metadata": {},
      "source": [
        "# Prompt Engineering Educativo - POC\n",
        "\n",
        "Este notebook demuestra cómo usar **prompt engineering** para generar materiales educativos personalizados en **texto** y **imagen**."
      ]
    },
    {
      "cell_type": "code",
      "execution_count": null,
      "metadata": {},
      "outputs": [],
      "source": [
        "from openai import OpenAI\n",
        "client = OpenAI(api_key=\"TU_API_KEY\")\n",
        "\n",
        "prompt = \"\"\"\n",
        "Genera una explicación sobre la fotosíntesis para estudiantes de secundaria,\n",
        "incluyendo:\n",
        "- Definición clara\n",
        "- 2 ejemplos prácticos\n",
        "- 3 preguntas de comprobación\n",
        "- Una analogía cotidiana\n",
        "\"\"\"\n",
        "\n",
        "response = client.chat.completions.create(\n",
        "    model=\"gpt-4o-mini\",\n",
        "    messages=[{\"role\": \"user\", \"content\": prompt}]\n",
        ")\n",
        "\n",
        "print(response.choices[0].message.content)"
      ]
    },
    {
      "cell_type": "markdown",
      "metadata": {},
      "source": [
        "## Generación de Imagen Educativa"
      ]
    },
    {
      "cell_type": "code",
      "execution_count": null,
      "metadata": {},
      "outputs": [],
      "source": [
        "from diffusers import StableDiffusionPipeline\n",
        "import torch\n",
        "\n",
        "pipe = StableDiffusionPipeline.from_pretrained(\"CompVis/stable-diffusion-v1-4\").to(\"cuda\")\n",
        "\n",
        "prompt_img = \"\"\"\n",
        "Infografía educativa que muestre el ciclo del agua,\n",
        "con flechas claras, etiquetas descriptivas y colores suaves.\n",
        "\"\"\"\n",
        "\n",
        "image = pipe(prompt_img).images[0]\n",
        "image.save(\"ciclo_agua.png\")\n",
        "image.show()"
      ]
    },
    {
      "cell_type": "markdown",
      "metadata": {},
      "source": [
        "# EXPERIMENTACIÓN COMPARATIVA: FAST PROMPTING EN ACCIÓN\n",
        "\n",
        "# 1. Zero-shot vs Few-shot Comparison\n",
        "zero_shot_prompt = \"Explica la fotosíntesis\"\n",
        "few_shot_prompt = \"\"\"\n",
        "Como un profesor de biología experimentado, explica la fotosíntesis para estudiantes de secundaria usando:\n",
        "- Analogía de una fábrica de alimentos\n",
        "- Diagrama mental simplificado\n",
        "- 2 ejemplos de la vida real\n",
        "\"\"\"\n",
        "\n",
        "# 2. Role Prompting vs Sin Role\n",
        "sin_role = \"Genera ejercicios sobre ecuaciones cuadráticas\"\n",
        "con_role = \"\"\"\n",
        "Eres un tutor de matemáticas especializado en educación secundaria. \n",
        "Crea 3 ejercicios progresivos sobre ecuaciones cuadráticas que:\n",
        "- Comiencen con nivel básico\n",
        "- Incluyan problemas del mundo real\n",
        "- Tengan soluciones paso a paso\n",
        "\"\"\""
      ]
    }
  ],
  "metadata": {
    "kernelspec": {
      "display_name": "Python 3",
      "language": "python",
      "name": "python3"
    },
    "language_info": {
      "name": "python",
      "version": "3.10"
    }
  },
  "nbformat": 4,
  "nbformat_minor": 2
}
